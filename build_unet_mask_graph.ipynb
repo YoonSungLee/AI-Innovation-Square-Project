{
 "cells": [
  {
   "cell_type": "markdown",
   "metadata": {},
   "source": [
    "# build_unet_mask_graph"
   ]
  },
  {
   "cell_type": "markdown",
   "metadata": {},
   "source": [
    "<img src=\"https://i.imgur.com/1yQnLbK.jpg\" width=\"100%\">"
   ]
  },
  {
   "cell_type": "code",
   "execution_count": null,
   "metadata": {},
   "outputs": [],
   "source": [
    "def build_unet_mask_graph(rois, feature_maps, image_meta,\n",
    "\n",
    "                          pool_size, num_classes, train_bn=True):\n",
    "    # ROI Pooling\n",
    "    # Shape: [batch, num_rois, MASK_POOL_SIZE, MASK_POOL_SIZE, channels]\n",
    "    # num_rois: number of regions of interest to be used\n",
    "    x = PyramidROIAlign([pool_size, pool_size],\n",
    "                        name=\"roi_align_mask\")([rois, image_meta] + feature_maps)\n",
    "\n",
    "    # Conv layers\n",
    "    # (1, 100, 14, 14, 256)\n",
    "\n",
    "    # Downsampling\n",
    "    x = KL.Conv2D(256, (3, 3), padding='same', name='layer11', activation='relu', kernel_initializer='he_normal')(x)\n",
    "    x = BatchNorm()(x)\n",
    "    # (1, 100, 14, 14, 256)\n",
    "    x = KL.Conv2D(256, (3, 3), padding='same', name='layer12', activation='relu', kernel_initializer='he_normal')(x)\n",
    "    x = BatchNorm()(x)\n",
    "    # (1, 100, 14, 14, 256)\n",
    "    skip_connection = x  # for skip connection\n",
    "    x = KL.Maxpooling2D()(x)\n",
    "    # (1, 100, 7, 7, 256)\n",
    "\n",
    "    # Bottleneck\n",
    "    x = KL.Conv2D(256, (3, 3), padding='same', name='layer21', activation='relu', kernel_initializer='he_normal')(x)\n",
    "    x = BatchNorm()(x)\n",
    "    # (1, 100, 7, 7, 256)\n",
    "    x = KL.Conv2D(512, (3, 3), padding='same', name='layer22', activation='relu', kernel_initializer='he_normal')(x)\n",
    "    x = BatchNorm()(x)\n",
    "    # (1, 100, 7, 7, 512)\n",
    "    x = KL.Conv2D(256, (3, 3), padding='same', name='layer23', activation='relu', kernel_initializer='he_normal')(x)\n",
    "    x = BatchNorm()(x)\n",
    "    # (1, 100, 7, 7, 256)\n",
    "\n",
    "    # Upsampling\n",
    "    x = KL.UpSampling2D()(x)\n",
    "    # (1, 100, 14, 14, 256)\n",
    "    x = KL.Concatenate(axis=-1)([x, skip_connection])\n",
    "    # (1, 100, 14, 14, 512)\n",
    "    x = KL.Conv2D(256, (3, 3), padding='same', name='layer31', activation='relu', kernel_initializer='he_normal')(x)\n",
    "    x = BatchNorm()(x)\n",
    "    # (1, 100, 14, 14, 256)\n",
    "    x = KL.Conv2D(128, (3, 3), padding='same', name='layer32', activation='relu', kernel_initializer='he_normal')(x)\n",
    "    x = BatchNorm()(x)\n",
    "    # (1, 100, 14, 14, 128)\n",
    "    x = KL.UpSampling2D()(x)\n",
    "    # (1, 100, 28, 28, 256)\n",
    "    x = KL.Conv2D(256, (3, 3), padding='same', name='layer41', activation='relu', kernel_initializer='he_normal')(x)\n",
    "    x = BatchNorm()(x)\n",
    "    # (1, 100, 28, 28, 256)\n",
    "    x = KL.Conv2D(256, (3, 3), padding='same', name='layer42', activation='relu', kernel_initializer='he_normal')(x)\n",
    "    x = BatchNorm()(x)\n",
    "    # (1, 100, 28, 28, 256)\n",
    "    x = KL.Conv2D(81, (1, 1), padding='same', name='layer43', activation='sigmoid')(x)\n",
    "    # (1, 100, 28, 28, 81)\n",
    "\n",
    "\n",
    "    return x"
   ]
  }
 ],
 "metadata": {
  "kernelspec": {
   "display_name": "Python 3",
   "language": "python",
   "name": "python3"
  },
  "language_info": {
   "codemirror_mode": {
    "name": "ipython",
    "version": 3
   },
   "file_extension": ".py",
   "mimetype": "text/x-python",
   "name": "python",
   "nbconvert_exporter": "python",
   "pygments_lexer": "ipython3",
   "version": "3.7.3"
  }
 },
 "nbformat": 4,
 "nbformat_minor": 2
}
